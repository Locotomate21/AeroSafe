{
 "cells": [
  {
   "cell_type": "code",
   "execution_count": null,
   "id": "6ca58138",
   "metadata": {
    "vscode": {
     "languageId": "plaintext"
    }
   },
   "outputs": [],
   "source": [
    "import pandas as pd\n",
    "from sklearn.model_selection import train_test_split\n",
    "from sklearn.ensemble import RandomForestClassifier\n",
    "from sklearn.preprocessing import LabelEncoder\n",
    "import joblib\n",
    "\n",
    "# Cargar dataset\n",
    "df = pd.read_csv(\"../data/dataset/weather_risk.csv\")\n",
    "\n",
    "# Convertir etiquetas a números\n",
    "encoder = LabelEncoder()\n",
    "df[\"riesgo_encoded\"] = encoder.fit_transform(df[\"riesgo\"])\n",
    "\n",
    "# Variables de entrada y salida\n",
    "X = df[[\"temperatura\", \"humedad\", \"viento\", \"visibilidad\"]]\n",
    "y = df[\"riesgo_encoded\"]\n",
    "\n",
    "# Dividir datos\n",
    "X_train, X_test, y_train, y_test = train_test_split(X, y, test_size=0.2, random_state=42)\n",
    "\n",
    "# Entrenar modelo\n",
    "model = RandomForestClassifier(n_estimators=100, random_state=42)\n",
    "model.fit(X_train, y_train)\n",
    "\n",
    "# Guardar modelo y codificador\n",
    "joblib.dump(model, \"../data/models/risk_model.pkl\")\n",
    "joblib.dump(encoder, \"../data/models/label_encoder.pkl\")\n",
    "\n",
    "# Evaluación rápida\n",
    "print(\"Precisión:\", model.score(X_test, y_test))\n"
   ]
  }
 ],
 "metadata": {
  "language_info": {
   "name": "python"
  }
 },
 "nbformat": 4,
 "nbformat_minor": 5
}
